{
 "cells": [
  {
   "cell_type": "code",
   "execution_count": 17,
   "metadata": {},
   "outputs": [],
   "source": [
    "import pandas as pd\n",
    "import numpy as np\n",
    "import matplotlib.pyplot as plt\n",
    "import math\n",
    "\n",
    "from keras.utils.np_utils import to_categorical\n",
    "from keras.models import Sequential, load_model, Model\n",
    "from keras.layers import Dense, Dropout, Flatten, Conv2D, MaxPool2D\n",
    "from keras.preprocessing.image import load_img\n",
    "from keras.preprocessing.image import img_to_array\n",
    "%matplotlib inline"
   ]
  },
  {
   "cell_type": "code",
   "execution_count": 3,
   "metadata": {},
   "outputs": [],
   "source": [
    "def load_nipa_test_img(num):\n",
    "    \n",
    "    # 경로만 알아서 잘 하기\n",
    "    nipa_image = load_img(f'/volumes/KTWusb/nipa/test/{num}.jpg', target_size = (224,224))  # 해당 사이즈로 로딩해준다. vgg16이 224*224 사이즈를 쓰기 때문에.\n",
    "    img = img_to_array(nipa_image) # 이미지를 넘파이 어레이로 바꿔준다\n",
    "    return img\n",
    "\n",
    "\n",
    "def load_nipa_train_img(plnt, dis, specific_index):\n",
    "\n",
    "\n",
    "    nipa_image = load_img(f'/volumes/KTWusb/nipa/train/{plnt}_{dis}_{specific_index}.jpg', target_size = (224,224))  # 해당 사이즈로 로딩해준다. vgg16이 224*224 사이즈를 쓰기 때문에.\n",
    "    img = img_to_array(nipa_image) # 이미지를 넘파이 어레이로 바꿔준다\n",
    "        \n",
    "        \n",
    "    return img\n",
    "\n"
   ]
  },
  {
   "cell_type": "markdown",
   "metadata": {},
   "source": [
    "## X_train 파트 전처리"
   ]
  },
  {
   "cell_type": "code",
   "execution_count": 4,
   "metadata": {},
   "outputs": [],
   "source": [
    "\n",
    "# nipa_train은 데이터셋에 있는 tsv 파일임. 이 이름 아님. 그냥 train.tsv였나? 그랬을듯...\n",
    "df = pd.read_csv('nipa_train.tsv', sep='\\t',header=None )"
   ]
  },
  {
   "cell_type": "code",
   "execution_count": 5,
   "metadata": {},
   "outputs": [],
   "source": [
    "df.columns = ['file', 'plnt', 'dis']"
   ]
  },
  {
   "cell_type": "code",
   "execution_count": 6,
   "metadata": {},
   "outputs": [],
   "source": [
    "df['file'] = df['file'].str.replace('.jpg', \"\")"
   ]
  },
  {
   "cell_type": "code",
   "execution_count": 7,
   "metadata": {},
   "outputs": [],
   "source": [
    "df['specific_index'] = df['file'].str.split(\"_\", expand=True)[2]"
   ]
  },
  {
   "cell_type": "code",
   "execution_count": 8,
   "metadata": {},
   "outputs": [],
   "source": [
    "df['specific_index'] = df['specific_index'].astype(int)"
   ]
  },
  {
   "cell_type": "code",
   "execution_count": 9,
   "metadata": {},
   "outputs": [],
   "source": [
    "df = df.sort_values(by=['plnt', 'dis', 'specific_index'])"
   ]
  },
  {
   "cell_type": "code",
   "execution_count": 10,
   "metadata": {},
   "outputs": [],
   "source": [
    "df.reset_index(inplace=True)"
   ]
  },
  {
   "cell_type": "code",
   "execution_count": 11,
   "metadata": {},
   "outputs": [],
   "source": [
    "df = df.drop('index', axis=1)"
   ]
  },
  {
   "cell_type": "code",
   "execution_count": null,
   "metadata": {},
   "outputs": [],
   "source": []
  },
  {
   "cell_type": "code",
   "execution_count": 18,
   "metadata": {},
   "outputs": [
    {
     "name": "stderr",
     "output_type": "stream",
     "text": [
      "/Users/taewoongkong/miniconda3/lib/python3.7/site-packages/ipykernel_launcher.py:5: TqdmDeprecationWarning: This function will be removed in tqdm==5.0.0\n",
      "Please use `tqdm.notebook.tqdm` instead of `tqdm.tqdm_notebook`\n",
      "  \"\"\"\n"
     ]
    },
    {
     "data": {
      "application/vnd.jupyter.widget-view+json": {
       "model_id": "3c05e8d0d29a4409bcdb94bd8b1a69d3",
       "version_major": 2,
       "version_minor": 0
      },
      "text/plain": [
       "HBox(children=(FloatProgress(value=0.0, max=4996.0), HTML(value='')))"
      ]
     },
     "metadata": {},
     "output_type": "display_data"
    },
    {
     "name": "stdout",
     "output_type": "stream",
     "text": [
      "\n"
     ]
    }
   ],
   "source": [
    "from tqdm import tqdm_notebook\n",
    "\n",
    "X_train_full = []\n",
    "\n",
    "for num in tqdm_notebook(range(df.shape[0])):  # df의 행만큼, 즉 데이터 16000개의 크기만큼\n",
    "\n",
    "    X_train_full.append(load_nipa_train_img(df.iloc[num,1:][0], df.iloc[num,1:][1], df.iloc[num,1:][2]))"
   ]
  },
  {
   "cell_type": "code",
   "execution_count": 19,
   "metadata": {},
   "outputs": [
    {
     "data": {
      "text/plain": [
       "(4996, 224, 224, 3)"
      ]
     },
     "execution_count": 19,
     "metadata": {},
     "output_type": "execute_result"
    }
   ],
   "source": [
    "X_train_full = np.concatenate([arr[np.newaxis] for arr in X_train_full])\n",
    "X_train_full.shape\n",
    "\n",
    "# 16000을 돌렸으면 shape로 (16000, 224, 224, 3)이 나와야 한다"
   ]
  },
  {
   "cell_type": "markdown",
   "metadata": {},
   "source": [
    "## y_train 만들기 : 품종코드_질병코드 로 class를 만들어준다"
   ]
  },
  {
   "cell_type": "code",
   "execution_count": 20,
   "metadata": {},
   "outputs": [],
   "source": [
    "df['class'] = df['plnt'].astype(str) + \"_\" + df['dis'].astype(str)"
   ]
  },
  {
   "cell_type": "code",
   "execution_count": 25,
   "metadata": {},
   "outputs": [],
   "source": [
    "# 원핫인코딩을 시켜줌\n",
    "\n",
    "y_train_full = to_categorical(df['class'].tolist())\n"
   ]
  },
  {
   "cell_type": "code",
   "execution_count": 26,
   "metadata": {},
   "outputs": [
    {
     "data": {
      "text/plain": [
       "(4996, 1321)"
      ]
     },
     "execution_count": 26,
     "metadata": {},
     "output_type": "execute_result"
    }
   ],
   "source": [
    "y_train_full.shape  # 맞게 되면 이것도 (16000, n) 으로 나옴. 나중에 이 n을 아래 최종 dense에 넣음"
   ]
  },
  {
   "cell_type": "code",
   "execution_count": 27,
   "metadata": {},
   "outputs": [
    {
     "name": "stdout",
     "output_type": "stream",
     "text": [
      "Model: \"sequential\"\n",
      "_________________________________________________________________\n",
      "Layer (type)                 Output Shape              Param #   \n",
      "=================================================================\n",
      "conv2d (Conv2D)              (None, 224, 224, 16)      784       \n",
      "_________________________________________________________________\n",
      "max_pooling2d (MaxPooling2D) (None, 112, 112, 16)      0         \n",
      "_________________________________________________________________\n",
      "dropout (Dropout)            (None, 112, 112, 16)      0         \n",
      "_________________________________________________________________\n",
      "conv2d_1 (Conv2D)            (None, 112, 112, 32)      8224      \n",
      "_________________________________________________________________\n",
      "max_pooling2d_1 (MaxPooling2 (None, 56, 56, 32)        0         \n",
      "_________________________________________________________________\n",
      "conv2d_2 (Conv2D)            (None, 56, 56, 64)        32832     \n",
      "_________________________________________________________________\n",
      "max_pooling2d_2 (MaxPooling2 (None, 28, 28, 64)        0         \n",
      "_________________________________________________________________\n",
      "flatten (Flatten)            (None, 50176)             0         \n",
      "_________________________________________________________________\n",
      "dense (Dense)                (None, 512)               25690624  \n",
      "_________________________________________________________________\n",
      "dense_1 (Dense)              (None, 1321)              677673    \n",
      "=================================================================\n",
      "Total params: 26,410,137\n",
      "Trainable params: 26,410,137\n",
      "Non-trainable params: 0\n",
      "_________________________________________________________________\n"
     ]
    }
   ],
   "source": [
    "# 모델 설계\n",
    "\n",
    "model = Sequential()\n",
    "model.add(Conv2D(filters = 16,\n",
    "                 kernel_size = 4,\n",
    "                 padding = 'same',\n",
    "                 strides = 1,\n",
    "                 activation = 'relu',\n",
    "                 input_shape = (224,224,3,)  # 3,) 은 센스있게 남겨둠\n",
    "                ))\n",
    "model.add(MaxPool2D(pool_size = 2))\n",
    "model.add(Dropout(0.5))\n",
    "\n",
    "\n",
    "model.add(Conv2D(filters = 32, kernel_size = 4, padding = 'same', strides = 1, activation = 'relu'))\n",
    "model.add(MaxPool2D(pool_size = 2))\n",
    "\n",
    "model.add(Conv2D(filters = 64, kernel_size = 4, padding = 'same', strides = 1, activation = 'relu'))\n",
    "model.add(MaxPool2D(pool_size = 2))\n",
    "\n",
    "model.add(Flatten())\n",
    "\n",
    "model.add(Dense(512, activation = 'relu'))\n",
    "model.add(Dense(1321, activation = 'softmax'))  # 1321자리에 위 n을 넣어줌 (y_train의 종류만큼 들어가야함)\n",
    "\n",
    "model.summary()"
   ]
  },
  {
   "cell_type": "code",
   "execution_count": null,
   "metadata": {},
   "outputs": [],
   "source": [
    "# 비용함수 설계\n",
    "\n",
    "model.compile(loss = 'categorical_crossentropy', optimizer = 'adam', metrics = ['accuracy'])\n",
    "\n",
    "\n",
    "# 피팅\n",
    "model.fit(X_train_4996, y_train_4996, batch_size = 128, epochs=1, validation_split = 0.2)"
   ]
  },
  {
   "cell_type": "markdown",
   "metadata": {},
   "source": [
    "## X_test 만들기"
   ]
  },
  {
   "cell_type": "code",
   "execution_count": 36,
   "metadata": {},
   "outputs": [
    {
     "data": {
      "text/plain": [
       "3997"
      ]
     },
     "execution_count": 36,
     "metadata": {},
     "output_type": "execute_result"
    }
   ],
   "source": [
    "pd.read_csv('nipa_test.tsv', sep='\\t',header=None ).shape[0]"
   ]
  },
  {
   "cell_type": "code",
   "execution_count": null,
   "metadata": {},
   "outputs": [],
   "source": [
    "from tqdm import tqdm_notebook\n",
    "\n",
    "X_test = []\n",
    "\n",
    "for num in tqdm_notebook(range(pd.read_csv('nipa_test.tsv', sep='\\t',header=None ).shape[0])):\n",
    "\n",
    "    X_test.append(load_nipa_test_img(num))\n",
    "\n",
    "X_test = np.concatenate([arr[np.newaxis] for arr in X_test])\n",
    "X_test.shape"
   ]
  },
  {
   "cell_type": "code",
   "execution_count": null,
   "metadata": {},
   "outputs": [],
   "source": [
    "# 마지막 최종 예측\n",
    "\n",
    "pred = model.predict(X_test)"
   ]
  }
 ],
 "metadata": {
  "kernelspec": {
   "display_name": "Python 3",
   "language": "python",
   "name": "python3"
  },
  "language_info": {
   "codemirror_mode": {
    "name": "ipython",
    "version": 3
   },
   "file_extension": ".py",
   "mimetype": "text/x-python",
   "name": "python",
   "nbconvert_exporter": "python",
   "pygments_lexer": "ipython3",
   "version": "3.7.4"
  }
 },
 "nbformat": 4,
 "nbformat_minor": 2
}
