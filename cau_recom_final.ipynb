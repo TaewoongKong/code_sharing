{
 "cells": [
  {
   "cell_type": "code",
   "execution_count": null,
   "metadata": {},
   "outputs": [],
   "source": [
    "import pandas as pd\n",
    "import numpy as np\n",
    "\n",
    "df_recom = pd.read_csv('https://github.com/TaewoongKong/code_sharing/blob/master/cau_place_final_data.csv?raw=True')"
   ]
  },
  {
   "cell_type": "code",
   "execution_count": null,
   "metadata": {},
   "outputs": [],
   "source": [
    "from sklearn.feature_extraction.text import CountVectorizer\n",
    "from sklearn.metrics.pairwise import cosine_similarity\n",
    "\n",
    "\n",
    "# 리뷰의 유사도 학습\n",
    "\n",
    "\n",
    "count_vect_review = CountVectorizer(min_df=2, ngram_range=(1,2))\n",
    "place_review = count_vect_review.fit_transform(df_recom['review_txt']) \n",
    "place_simi_review = cosine_similarity(place_review, place_review)\n",
    "place_simi_review_sorted_ind = place_simi_review.argsort()[:, ::-1]\n",
    "\n",
    "\n",
    "# 카테고리의 유사도 학습\n",
    "\n",
    "count_vect_category = CountVectorizer(min_df=0, ngram_range=(1,2))\n",
    "place_category = count_vect_category.fit_transform(df_recom['cate_mix']) \n",
    "place_simi_cate = cosine_similarity(place_category, place_category) \n",
    "place_simi_cate_sorted_ind = place_simi_cate.argsort()[:, ::-1] \n",
    "\n",
    "\n",
    "# 카테고리와 리뷰의 중요성을 짬뽕시키는 공식\n",
    "place_simi_co = (place_simi_review*0.4  # 리뷰 유사도 반영\n",
    "                 + place_simi_cate*0.2  # 카테고리 유사도 반영\n",
    "                 + np.repeat([df_recom['star_qty'].values], len(df_recom['star_qty']) , axis=0) * 0.0005  # 별점평가 개수\n",
    "                 + np.repeat([df_recom['star_point'].values], len(df_recom['star_point']) , axis=0) * 0.01 # 별점 평가 반영\n",
    "                 + np.repeat([df_recom['sentiment'].values], len(df_recom['sentiment']) , axis=0) * 0.005  # 감정분석 개수\n",
    "                 \n",
    "                )\n",
    "\n",
    "\n",
    "# 필요한 작업\n",
    "place_simi_co_sorted_ind = place_simi_co.argsort()[:, ::-1] \n",
    "\n",
    "# 위경도 구하는 공식 \n",
    "\n",
    "def haversine_distance(lat1, lon1, lat2, lon2):\n",
    "    r = 6371\n",
    "    phi1 = np.radians(lat1)\n",
    "    phi2 = np.radians(lat2)\n",
    "    delta_phi = np.radians(lat2 - lat1)\n",
    "    delta_lambda = np.radians(lon2 - lon1)\n",
    "    a = np.sin(delta_phi / 2)**2 + np.cos(phi1) * np.cos(phi2) *   np.sin(delta_lambda / 2)**2\n",
    "    res = r * (2 * np.arctan2(np.sqrt(a), np.sqrt(1 - a)))\n",
    "    return np.round(res, 2)\n",
    "\n",
    "\n",
    "\n",
    "# 추천엔진 돌리는 최종 함수\n",
    "\n",
    "def find_simi_place(df, sorted_ind, place_name, top_n):\n",
    "    \n",
    "    \n",
    "    \n",
    "    place_title = df[df['name'] == place_name]\n",
    "    place_index = place_title.index.values\n",
    "    similar_indexes = sorted_ind[place_index, :(top_n+1)]\n",
    "    similar_indexes = similar_indexes.reshape(-1)\n",
    "    result_df = df.iloc[similar_indexes]\n",
    "    \n",
    "    start_lat, start_lon = result_df['lat'].tolist()[0], result_df['lon'].tolist()[0]\n",
    "    \n",
    "    distances_km = []\n",
    "    for row in result_df.itertuples(index=False):\n",
    "        distances_km.append(haversine_distance(start_lat, start_lon, row.lat, row.lon))\n",
    "    \n",
    "    \n",
    "    result_df['distance'] = distances_km\n",
    "    \n",
    "    \n",
    "\n",
    "    return result_df.loc[~(result_df['name'] == place_name)].sort_values(by='distance')\n"
   ]
  },
  {
   "cell_type": "code",
   "execution_count": null,
   "metadata": {},
   "outputs": [],
   "source": [
    "find_simi_place(df_recom,place_simi_co_sorted_ind, \"사리원\", 7)"
   ]
  }
 ],
 "metadata": {
  "kernelspec": {
   "display_name": "Python 3",
   "language": "python",
   "name": "python3"
  },
  "language_info": {
   "codemirror_mode": {
    "name": "ipython",
    "version": 3
   },
   "file_extension": ".py",
   "mimetype": "text/x-python",
   "name": "python",
   "nbconvert_exporter": "python",
   "pygments_lexer": "ipython3",
   "version": "3.7.4"
  }
 },
 "nbformat": 4,
 "nbformat_minor": 2
}
